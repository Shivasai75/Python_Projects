{
 "cells": [
  {
   "cell_type": "code",
   "execution_count": 1,
   "metadata": {},
   "outputs": [
    {
     "name": "stdout",
     "output_type": "stream",
     "text": [
      "Total Active Cases =  33505845\n",
      "Total Deaths =  1776997\n",
      "Total Recoved =  46097548\n",
      "Total Confirmed Cases = 81380395\n",
      "India Covid Data = {'id': '80', 'country': 'India', 'confirmed': 10224303, 'active': 268581, 'deaths': 148153, 'recovered': 9807569, 'latitude': 20.593684, 'longitude': 78.96288, 'last_update': 1609240931000}\n"
     ]
    }
   ],
   "source": [
    "from covid import Covid\n",
    "\n",
    "covid = Covid()\n",
    "\n",
    "print('Total Active Cases = ', covid.get_total_active_cases())\n",
    "print('Total Deaths = ', covid.get_total_deaths())\n",
    "print('Total Recoved = ',covid.get_total_recovered())\n",
    "print('Total Confirmed Cases =', covid.get_total_confirmed_cases())\n",
    "print('India Covid Data =', covid.get_status_by_country_name('India'))"
   ]
  },
  {
   "cell_type": "code",
   "execution_count": null,
   "metadata": {},
   "outputs": [],
   "source": []
  }
 ],
 "metadata": {
  "kernelspec": {
   "display_name": "Python 3",
   "language": "python",
   "name": "python3"
  },
  "language_info": {
   "codemirror_mode": {
    "name": "ipython",
    "version": 3
   },
   "file_extension": ".py",
   "mimetype": "text/x-python",
   "name": "python",
   "nbconvert_exporter": "python",
   "pygments_lexer": "ipython3",
   "version": "3.7.6"
  }
 },
 "nbformat": 4,
 "nbformat_minor": 4
}
