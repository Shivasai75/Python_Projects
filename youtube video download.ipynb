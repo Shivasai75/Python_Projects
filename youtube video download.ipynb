{
 "cells": [
  {
   "cell_type": "markdown",
   "metadata": {},
   "source": [
    "# youtube video download\n"
   ]
  },
  {
   "cell_type": "code",
   "execution_count": 1,
   "metadata": {},
   "outputs": [
    {
     "name": "stdout",
     "output_type": "stream",
     "text": [
      "[youtube] bXG0XPRHUEw: Downloading webpage\n",
      "[youtube] bXG0XPRHUEw: Downloading js player 9ce2f25a\n",
      "[youtube] bXG0XPRHUEw: Downloading js player 9ce2f25a\n",
      "[youtube] bXG0XPRHUEw: Downloading MPD manifest\n",
      "[download] Destination: Imagine programmers without Stack overflow-bXG0XPRHUEw.mp4\n",
      "[download] 100% of 917.11KiB in 00:00                  \n"
     ]
    }
   ],
   "source": [
    "from __future__ import unicode_literals\n",
    "import youtube_dl\n",
    "import os\n",
    "\n",
    "ydl_opts = {}\n",
    "os.chdir('D:\\TEST')\n",
    "with youtube_dl.YoutubeDL(ydl_opts) as ydl:\n",
    "    ydl.download(['http://youtube.com/watch?v=bXG0XPRHUEw'])"
   ]
  },
  {
   "cell_type": "code",
   "execution_count": null,
   "metadata": {},
   "outputs": [],
   "source": []
  }
 ],
 "metadata": {
  "kernelspec": {
   "display_name": "Python 3",
   "language": "python",
   "name": "python3"
  },
  "language_info": {
   "codemirror_mode": {
    "name": "ipython",
    "version": 3
   },
   "file_extension": ".py",
   "mimetype": "text/x-python",
   "name": "python",
   "nbconvert_exporter": "python",
   "pygments_lexer": "ipython3",
   "version": "3.7.6"
  }
 },
 "nbformat": 4,
 "nbformat_minor": 4
}
